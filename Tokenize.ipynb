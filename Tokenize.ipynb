{
 "cells": [
  {
   "cell_type": "markdown",
   "metadata": {},
   "source": [
    "# Topics in NLP\n",
    "Topics\n",
    "1. Corpus - The Paragrpah of the text That is Given \n",
    "2. Documents - The Single Line of Text that is retrived from the text after tokenization \n",
    "3. Vocablary - The list of Unique Words Present in the Corpus\n",
    "4. words - The words Present in the Corpus"
   ]
  },
  {
   "cell_type": "code",
   "execution_count": 2,
   "metadata": {},
   "outputs": [
    {
     "data": {
      "text/plain": [
       "' This is a Random Paragraph that i gor from Internet. I will be using this Paragraph to see how tokenization is used\\nand how can we use it in the Big projects , although this is a big topic i am going to learn it all '"
      ]
     },
     "execution_count": 2,
     "metadata": {},
     "output_type": "execute_result"
    }
   ],
   "source": [
    "corpus = \"\"\" This is a Random Paragraph that i gor from Internet. I will be using this Paragraph to see how tokenization is used\n",
    "and how can we use it in the Big projects , although this is a big topic i am going to learn it all \"\"\"\n",
    "corpus\n"
   ]
  },
  {
   "cell_type": "code",
   "execution_count": 3,
   "metadata": {},
   "outputs": [
    {
     "name": "stdout",
     "output_type": "stream",
     "text": [
      " This is a Random Paragraph that i gor from Internet. I will be using this Paragraph to see how tokenization is used\n",
      "and how can we use it in the Big projects , although this is a big topic i am going to learn it all \n"
     ]
    }
   ],
   "source": [
    "print(corpus)"
   ]
  },
  {
   "cell_type": "code",
   "execution_count": 8,
   "metadata": {},
   "outputs": [
    {
     "name": "stderr",
     "output_type": "stream",
     "text": [
      "[nltk_data] Downloading package punkt to\n",
      "[nltk_data]     C:\\Users\\reply\\AppData\\Roaming\\nltk_data...\n",
      "[nltk_data]   Unzipping tokenizers\\punkt.zip.\n"
     ]
    },
    {
     "data": {
      "text/plain": [
       "True"
      ]
     },
     "execution_count": 8,
     "metadata": {},
     "output_type": "execute_result"
    }
   ],
   "source": [
    "# Tokeniaztion \n",
    "# Here we will be converting the given Paragraph into sentences \n",
    "from nltk.tokenize import sent_tokenize\n",
    "import nltk\n",
    "nltk.download('punkt')\n"
   ]
  },
  {
   "cell_type": "code",
   "execution_count": 10,
   "metadata": {},
   "outputs": [],
   "source": [
    "sentence = sent_tokenize(corpus)"
   ]
  },
  {
   "cell_type": "code",
   "execution_count": 11,
   "metadata": {},
   "outputs": [
    {
     "name": "stdout",
     "output_type": "stream",
     "text": [
      " This is a Random Paragraph that i gor from Internet.\n",
      "I will be using this Paragraph to see how tokenization is used\n",
      "and how can we use it in the Big projects , although this is a big topic i am going to learn it all\n"
     ]
    }
   ],
   "source": [
    "for sentences in sentence :\n",
    "    print(sentences)"
   ]
  },
  {
   "cell_type": "code",
   "execution_count": 13,
   "metadata": {},
   "outputs": [],
   "source": [
    "# Tokenization \n",
    "# Paragraph into words \n",
    "# sentence into words \n",
    "\n",
    "from nltk.tokenize import word_tokenize"
   ]
  },
  {
   "cell_type": "code",
   "execution_count": 15,
   "metadata": {},
   "outputs": [
    {
     "name": "stdout",
     "output_type": "stream",
     "text": [
      "['This', 'is', 'a', 'Random', 'Paragraph', 'that', 'i', 'gor', 'from', 'Internet', '.', 'I', 'will', 'be', 'using', 'this', 'Paragraph', 'to', 'see', 'how', 'tokenization', 'is', 'used', 'and', 'how', 'can', 'we', 'use', 'it', 'in', 'the', 'Big', 'projects', ',', 'although', 'this', 'is', 'a', 'big', 'topic', 'i', 'am', 'going', 'to', 'learn', 'it', 'all']\n"
     ]
    }
   ],
   "source": [
    "words = word_tokenize(corpus)\n",
    "print(words)"
   ]
  },
  {
   "cell_type": "code",
   "execution_count": 16,
   "metadata": {},
   "outputs": [],
   "source": [
    "# using wordpunct_tokenize to tokenize along with the puncutation \n",
    "from nltk.tokenize import wordpunct_tokenize\n"
   ]
  },
  {
   "cell_type": "code",
   "execution_count": 17,
   "metadata": {},
   "outputs": [],
   "source": [
    "word_punct = wordpunct_tokenize(corpus)"
   ]
  },
  {
   "cell_type": "code",
   "execution_count": 18,
   "metadata": {},
   "outputs": [
    {
     "name": "stdout",
     "output_type": "stream",
     "text": [
      "['This', 'is', 'a', 'Random', 'Paragraph', 'that', 'i', 'gor', 'from', 'Internet', '.', 'I', 'will', 'be', 'using', 'this', 'Paragraph', 'to', 'see', 'how', 'tokenization', 'is', 'used', 'and', 'how', 'can', 'we', 'use', 'it', 'in', 'the', 'Big', 'projects', ',', 'although', 'this', 'is', 'a', 'big', 'topic', 'i', 'am', 'going', 'to', 'learn', 'it', 'all']\n"
     ]
    }
   ],
   "source": [
    "print(word_punct)"
   ]
  },
  {
   "cell_type": "code",
   "execution_count": 19,
   "metadata": {},
   "outputs": [
    {
     "data": {
      "text/plain": [
       "['This',\n",
       " 'is',\n",
       " 'a',\n",
       " 'Random',\n",
       " 'Paragraph',\n",
       " 'that',\n",
       " 'i',\n",
       " 'gor',\n",
       " 'from',\n",
       " 'Internet.',\n",
       " 'I',\n",
       " 'will',\n",
       " 'be',\n",
       " 'using',\n",
       " 'this',\n",
       " 'Paragraph',\n",
       " 'to',\n",
       " 'see',\n",
       " 'how',\n",
       " 'tokenization',\n",
       " 'is',\n",
       " 'used',\n",
       " 'and',\n",
       " 'how',\n",
       " 'can',\n",
       " 'we',\n",
       " 'use',\n",
       " 'it',\n",
       " 'in',\n",
       " 'the',\n",
       " 'Big',\n",
       " 'projects',\n",
       " ',',\n",
       " 'although',\n",
       " 'this',\n",
       " 'is',\n",
       " 'a',\n",
       " 'big',\n",
       " 'topic',\n",
       " 'i',\n",
       " 'am',\n",
       " 'going',\n",
       " 'to',\n",
       " 'learn',\n",
       " 'it',\n",
       " 'all']"
      ]
     },
     "execution_count": 19,
     "metadata": {},
     "output_type": "execute_result"
    }
   ],
   "source": [
    "# Treebank Toknizer \n",
    "from nltk.tokenize import TreebankWordTokenizer\n",
    "tree_bank = TreebankWordTokenizer()\n",
    "tree_bank.tokenize(corpus)"
   ]
  },
  {
   "cell_type": "code",
   "execution_count": null,
   "metadata": {},
   "outputs": [],
   "source": []
  }
 ],
 "metadata": {
  "kernelspec": {
   "display_name": "Python 3",
   "language": "python",
   "name": "python3"
  },
  "language_info": {
   "codemirror_mode": {
    "name": "ipython",
    "version": 3
   },
   "file_extension": ".py",
   "mimetype": "text/x-python",
   "name": "python",
   "nbconvert_exporter": "python",
   "pygments_lexer": "ipython3",
   "version": "3.13.0"
  }
 },
 "nbformat": 4,
 "nbformat_minor": 2
}
