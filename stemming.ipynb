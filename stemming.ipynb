{
 "cells": [
  {
   "cell_type": "markdown",
   "metadata": {},
   "source": [
    "Stemming - It is a Process of Reducing a Word to it's word stem that affixes to suffixes and prefixes or to the \n",
    "root of words known as Lemma . Stemming is important in natural language understanding (NLU) and natural language processing(NLP)\n",
    "\n",
    "eg. Solving a problem with Sentiment Analysis for a product  i,e classsifaction b/w bad and good \n",
    "reviews  --> Let's say it contains some words such as \n",
    "              eating , eaten , eat --> they almost the represnt the same thing here the root word is Eat \n",
    "              going , gone , goes  --> here also they represent the same thing and here the root word is go \n",
    "              "
   ]
  },
  {
   "cell_type": "code",
   "execution_count": 13,
   "metadata": {},
   "outputs": [],
   "source": [
    "# Stemming  \n",
    "words = [\"Eating\" , \"Eats\", \"eaten\" , \"writing\" , \"write\" , \"Written\" , \"going\" , \"goes\" , \"gone\" , \"going to \"]\n"
   ]
  },
  {
   "cell_type": "code",
   "execution_count": 1,
   "metadata": {},
   "outputs": [],
   "source": [
    "# using Porter Stemming\n",
    "from nltk.stem import PorterStemmer\n",
    "ps = PorterStemmer()\n"
   ]
  },
  {
   "cell_type": "code",
   "execution_count": 15,
   "metadata": {},
   "outputs": [
    {
     "name": "stdout",
     "output_type": "stream",
     "text": [
      "Eating---> eat\n",
      "Eats---> eat\n",
      "eaten---> eaten\n",
      "writing---> write\n",
      "write---> write\n",
      "Written---> written\n",
      "going---> go\n",
      "goes---> goe\n",
      "gone---> gone\n",
      "going to ---> going to \n"
     ]
    }
   ],
   "source": [
    "for word in words :\n",
    "    print(word + \"---> \"+ ps.stem(word= word))"
   ]
  },
  {
   "cell_type": "markdown",
   "metadata": {},
   "source": [
    "RegX Stemmer Class --> NlTK has a regx Stemmer class with which we can apply Regular Expression on stemmer Algorithim it takes\n",
    "a Single regular expression and removes any perfix and suffix that matches the expression "
   ]
  },
  {
   "cell_type": "code",
   "execution_count": 16,
   "metadata": {},
   "outputs": [
    {
     "data": {
      "text/plain": [
       "'eat'"
      ]
     },
     "execution_count": 16,
     "metadata": {},
     "output_type": "execute_result"
    }
   ],
   "source": [
    "# using RegxStemmer Class \n",
    "from nltk.stem import RegexpStemmer\n",
    "reg_stemer = RegexpStemmer('ing$|s$|e$|able$', min= 4)\n",
    "\n",
    "reg_stemer.stem(\"eating\")\n"
   ]
  },
  {
   "cell_type": "code",
   "execution_count": 17,
   "metadata": {},
   "outputs": [
    {
     "data": {
      "text/plain": [
       "'ineat'"
      ]
     },
     "execution_count": 17,
     "metadata": {},
     "output_type": "execute_result"
    }
   ],
   "source": [
    "reg_stemer.stem(\"ineating\")"
   ]
  },
  {
   "cell_type": "markdown",
   "metadata": {},
   "source": [
    "# SnowBall Stemer \n"
   ]
  },
  {
   "cell_type": "code",
   "execution_count": 19,
   "metadata": {},
   "outputs": [
    {
     "name": "stdout",
     "output_type": "stream",
     "text": [
      "Eating---->eat\n",
      "Eats---->eat\n",
      "eaten---->eaten\n",
      "writing---->write\n",
      "write---->write\n",
      "Written---->written\n",
      "going---->go\n",
      "goes---->goe\n",
      "gone---->gone\n",
      "going to ---->going to \n"
     ]
    }
   ],
   "source": [
    "from nltk.stem import SnowballStemmer\n",
    "snowball = SnowballStemmer('english')\n",
    "for word in words:\n",
    "    print(word+\"---->\"+snowball.stem(word))"
   ]
  },
  {
   "cell_type": "code",
   "execution_count": 23,
   "metadata": {},
   "outputs": [
    {
     "data": {
      "text/plain": [
       "('fairli', 'accordingli')"
      ]
     },
     "execution_count": 23,
     "metadata": {},
     "output_type": "execute_result"
    }
   ],
   "source": [
    "# comparing Porter Stemmer and Snowball Stemmer \n",
    "ps.stem(\"fairly\") , ps.stem(\"accordingly\")\n",
    "# --> bad output as we can see the words make no sense"
   ]
  },
  {
   "cell_type": "code",
   "execution_count": null,
   "metadata": {},
   "outputs": [
    {
     "data": {
      "text/plain": [
       "('fair', 'accord')"
      ]
     },
     "execution_count": 24,
     "metadata": {},
     "output_type": "execute_result"
    }
   ],
   "source": [
    "# trying the same words with snowball\n",
    "snowball.stem(\"fairly\") , snowball.stem(\"accordingly\")\n",
    "# The Result is Better the Porter Stemmer "
   ]
  },
  {
   "cell_type": "code",
   "execution_count": null,
   "metadata": {},
   "outputs": [],
   "source": []
  }
 ],
 "metadata": {
  "kernelspec": {
   "display_name": "Python 3",
   "language": "python",
   "name": "python3"
  },
  "language_info": {
   "codemirror_mode": {
    "name": "ipython",
    "version": 3
   },
   "file_extension": ".py",
   "mimetype": "text/x-python",
   "name": "python",
   "nbconvert_exporter": "python",
   "pygments_lexer": "ipython3",
   "version": "3.13.0"
  }
 },
 "nbformat": 4,
 "nbformat_minor": 2
}
